{
 "cells": [
  {
   "cell_type": "code",
   "execution_count": 60,
   "metadata": {},
   "outputs": [],
   "source": [
    "import pandas as pd\n",
    "import matplotlib.pyplot as plt\n",
    "import math\n",
    "import warnings\n",
    "warnings.filterwarnings(\"ignore\")\n",
    "#library for calculating RMSE \n",
    "from sklearn.metrics import mean_squared_error"
   ]
  },
  {
   "cell_type": "code",
   "execution_count": 2,
   "metadata": {},
   "outputs": [],
   "source": [
    "df = pd.read_excel(\"/Volumes/GoogleDrive/My Drive/Data Science Eugene Pinsky/Homework_4/online_retail_from_kaggle.xlsx\")"
   ]
  },
  {
   "cell_type": "code",
   "execution_count": 37,
   "metadata": {},
   "outputs": [],
   "source": [
    "#code for plotting bar graph\n",
    "def plot_bar_graph(df,x,y,color,title):\n",
    "\n",
    "    fig= plt.figure(figsize =(8, 8))\n",
    "    plt.bar(x,y,color=color)\n",
    "    plt.title(title)\n",
    "    plt.xlabel(\"Leading digit\")\n",
    "    plt.ylabel(\"Frequency\")\n",
    "    plt.xticks(range(0,10,1))\n",
    "    plt.show()"
   ]
  },
  {
   "cell_type": "markdown",
   "metadata": {},
   "source": [
    "Real Distribution F is computed below:"
   ]
  },
  {
   "cell_type": "code",
   "execution_count": 13,
   "metadata": {},
   "outputs": [
    {
     "data": {
      "text/html": [
       "<div>\n",
       "<style scoped>\n",
       "    .dataframe tbody tr th:only-of-type {\n",
       "        vertical-align: middle;\n",
       "    }\n",
       "\n",
       "    .dataframe tbody tr th {\n",
       "        vertical-align: top;\n",
       "    }\n",
       "\n",
       "    .dataframe thead th {\n",
       "        text-align: right;\n",
       "    }\n",
       "</style>\n",
       "<table border=\"1\" class=\"dataframe\">\n",
       "  <thead>\n",
       "    <tr style=\"text-align: right;\">\n",
       "      <th></th>\n",
       "      <th>Leading Digit</th>\n",
       "      <th>Frequency</th>\n",
       "      <th>Percentage of Occurence</th>\n",
       "    </tr>\n",
       "  </thead>\n",
       "  <tbody>\n",
       "    <tr>\n",
       "      <th>0</th>\n",
       "      <td>1</td>\n",
       "      <td>169831</td>\n",
       "      <td>39.856608</td>\n",
       "    </tr>\n",
       "    <tr>\n",
       "      <th>1</th>\n",
       "      <td>2</td>\n",
       "      <td>102324</td>\n",
       "      <td>24.013799</td>\n",
       "    </tr>\n",
       "    <tr>\n",
       "      <th>2</th>\n",
       "      <td>3</td>\n",
       "      <td>41130</td>\n",
       "      <td>9.652550</td>\n",
       "    </tr>\n",
       "    <tr>\n",
       "      <th>3</th>\n",
       "      <td>4</td>\n",
       "      <td>39972</td>\n",
       "      <td>9.380786</td>\n",
       "    </tr>\n",
       "    <tr>\n",
       "      <th>4</th>\n",
       "      <td>5</td>\n",
       "      <td>25450</td>\n",
       "      <td>5.972706</td>\n",
       "    </tr>\n",
       "    <tr>\n",
       "      <th>5</th>\n",
       "      <td>6</td>\n",
       "      <td>12092</td>\n",
       "      <td>2.837798</td>\n",
       "    </tr>\n",
       "    <tr>\n",
       "      <th>6</th>\n",
       "      <td>7</td>\n",
       "      <td>16206</td>\n",
       "      <td>3.803288</td>\n",
       "    </tr>\n",
       "    <tr>\n",
       "      <th>7</th>\n",
       "      <td>8</td>\n",
       "      <td>12317</td>\n",
       "      <td>2.890602</td>\n",
       "    </tr>\n",
       "    <tr>\n",
       "      <th>8</th>\n",
       "      <td>9</td>\n",
       "      <td>6783</td>\n",
       "      <td>1.591861</td>\n",
       "    </tr>\n",
       "  </tbody>\n",
       "</table>\n",
       "</div>"
      ],
      "text/plain": [
       "  Leading Digit  Frequency  Percentage of Occurence\n",
       "0             1     169831                39.856608\n",
       "1             2     102324                24.013799\n",
       "2             3      41130                 9.652550\n",
       "3             4      39972                 9.380786\n",
       "4             5      25450                 5.972706\n",
       "5             6      12092                 2.837798\n",
       "6             7      16206                 3.803288\n",
       "7             8      12317                 2.890602\n",
       "8             9       6783                 1.591861"
      ]
     },
     "execution_count": 13,
     "metadata": {},
     "output_type": "execute_result"
    }
   ],
   "source": [
    "#ignoring products with price starting at zero by considering prices starting at 1\n",
    "df = df[df[\"Price\"] >= 1.0 ]\n",
    "df = df.reset_index(drop=True)\n",
    "#making a new column called leading digit which stores the same.\n",
    "df[\"Leading Digit\"] = df[\"Price\"].astype(str).str[:1] \n",
    "df_frequency = pd.DataFrame()\n",
    "df_frequency = df[\"Leading Digit\"].value_counts()\n",
    "df_frequency = df_frequency.to_frame()\n",
    "df_frequency= df_frequency.reset_index()\n",
    "df_frequency = df_frequency.sort_values(by=[\"index\"],ignore_index=True)\n",
    "df_frequency = df_frequency.rename(columns={\"index\":\"Leading Digit\",\"Leading Digit\":\"Frequency\"})\n",
    "total_freq_sum = df_frequency[\"Frequency\"].sum()\n",
    "df_frequency[\"Percentage of Occurence\"] = (df_frequency[\"Frequency\"]/ total_freq_sum) * 100\n",
    "df_frequency"
   ]
  },
  {
   "cell_type": "markdown",
   "metadata": {},
   "source": [
    "Model 1: Equal weight distribution P is computed below: "
   ]
  },
  {
   "cell_type": "code",
   "execution_count": 14,
   "metadata": {},
   "outputs": [
    {
     "data": {
      "text/html": [
       "<div>\n",
       "<style scoped>\n",
       "    .dataframe tbody tr th:only-of-type {\n",
       "        vertical-align: middle;\n",
       "    }\n",
       "\n",
       "    .dataframe tbody tr th {\n",
       "        vertical-align: top;\n",
       "    }\n",
       "\n",
       "    .dataframe thead th {\n",
       "        text-align: right;\n",
       "    }\n",
       "</style>\n",
       "<table border=\"1\" class=\"dataframe\">\n",
       "  <thead>\n",
       "    <tr style=\"text-align: right;\">\n",
       "      <th></th>\n",
       "      <th>Leading Digit</th>\n",
       "      <th>Percentage of Occurence</th>\n",
       "    </tr>\n",
       "  </thead>\n",
       "  <tbody>\n",
       "    <tr>\n",
       "      <th>0</th>\n",
       "      <td>1</td>\n",
       "      <td>11.111111</td>\n",
       "    </tr>\n",
       "    <tr>\n",
       "      <th>1</th>\n",
       "      <td>2</td>\n",
       "      <td>11.111111</td>\n",
       "    </tr>\n",
       "    <tr>\n",
       "      <th>2</th>\n",
       "      <td>3</td>\n",
       "      <td>11.111111</td>\n",
       "    </tr>\n",
       "    <tr>\n",
       "      <th>3</th>\n",
       "      <td>4</td>\n",
       "      <td>11.111111</td>\n",
       "    </tr>\n",
       "    <tr>\n",
       "      <th>4</th>\n",
       "      <td>5</td>\n",
       "      <td>11.111111</td>\n",
       "    </tr>\n",
       "    <tr>\n",
       "      <th>5</th>\n",
       "      <td>6</td>\n",
       "      <td>11.111111</td>\n",
       "    </tr>\n",
       "    <tr>\n",
       "      <th>6</th>\n",
       "      <td>7</td>\n",
       "      <td>11.111111</td>\n",
       "    </tr>\n",
       "    <tr>\n",
       "      <th>7</th>\n",
       "      <td>8</td>\n",
       "      <td>11.111111</td>\n",
       "    </tr>\n",
       "    <tr>\n",
       "      <th>8</th>\n",
       "      <td>9</td>\n",
       "      <td>11.111111</td>\n",
       "    </tr>\n",
       "  </tbody>\n",
       "</table>\n",
       "</div>"
      ],
      "text/plain": [
       "   Leading Digit  Percentage of Occurence\n",
       "0              1                11.111111\n",
       "1              2                11.111111\n",
       "2              3                11.111111\n",
       "3              4                11.111111\n",
       "4              5                11.111111\n",
       "5              6                11.111111\n",
       "6              7                11.111111\n",
       "7              8                11.111111\n",
       "8              9                11.111111"
      ]
     },
     "execution_count": 14,
     "metadata": {},
     "output_type": "execute_result"
    }
   ],
   "source": [
    "df_model_1 = pd.DataFrame({\"Leading Digit\":[1,2,3,4,5,6,7,8,9]})\n",
    "df_model_1[\"Percentage of Occurence\"] = (1/9)*100\n",
    "df_model_1"
   ]
  },
  {
   "cell_type": "markdown",
   "metadata": {},
   "source": [
    "Model 2: Based on Bernford's law Pi is computed below:"
   ]
  },
  {
   "cell_type": "code",
   "execution_count": 19,
   "metadata": {},
   "outputs": [
    {
     "data": {
      "text/html": [
       "<div>\n",
       "<style scoped>\n",
       "    .dataframe tbody tr th:only-of-type {\n",
       "        vertical-align: middle;\n",
       "    }\n",
       "\n",
       "    .dataframe tbody tr th {\n",
       "        vertical-align: top;\n",
       "    }\n",
       "\n",
       "    .dataframe thead th {\n",
       "        text-align: right;\n",
       "    }\n",
       "</style>\n",
       "<table border=\"1\" class=\"dataframe\">\n",
       "  <thead>\n",
       "    <tr style=\"text-align: right;\">\n",
       "      <th></th>\n",
       "      <th>Leading Digit</th>\n",
       "      <th>Percentage of Occurence</th>\n",
       "    </tr>\n",
       "  </thead>\n",
       "  <tbody>\n",
       "    <tr>\n",
       "      <th>0</th>\n",
       "      <td>1</td>\n",
       "      <td>30.103000</td>\n",
       "    </tr>\n",
       "    <tr>\n",
       "      <th>1</th>\n",
       "      <td>2</td>\n",
       "      <td>17.609126</td>\n",
       "    </tr>\n",
       "    <tr>\n",
       "      <th>2</th>\n",
       "      <td>3</td>\n",
       "      <td>12.493874</td>\n",
       "    </tr>\n",
       "    <tr>\n",
       "      <th>3</th>\n",
       "      <td>4</td>\n",
       "      <td>9.691001</td>\n",
       "    </tr>\n",
       "    <tr>\n",
       "      <th>4</th>\n",
       "      <td>5</td>\n",
       "      <td>7.918125</td>\n",
       "    </tr>\n",
       "    <tr>\n",
       "      <th>5</th>\n",
       "      <td>6</td>\n",
       "      <td>6.694679</td>\n",
       "    </tr>\n",
       "    <tr>\n",
       "      <th>6</th>\n",
       "      <td>7</td>\n",
       "      <td>5.799195</td>\n",
       "    </tr>\n",
       "    <tr>\n",
       "      <th>7</th>\n",
       "      <td>8</td>\n",
       "      <td>5.115252</td>\n",
       "    </tr>\n",
       "    <tr>\n",
       "      <th>8</th>\n",
       "      <td>9</td>\n",
       "      <td>4.575749</td>\n",
       "    </tr>\n",
       "  </tbody>\n",
       "</table>\n",
       "</div>"
      ],
      "text/plain": [
       "   Leading Digit  Percentage of Occurence\n",
       "0              1                30.103000\n",
       "1              2                17.609126\n",
       "2              3                12.493874\n",
       "3              4                 9.691001\n",
       "4              5                 7.918125\n",
       "5              6                 6.694679\n",
       "6              7                 5.799195\n",
       "7              8                 5.115252\n",
       "8              9                 4.575749"
      ]
     },
     "execution_count": 19,
     "metadata": {},
     "output_type": "execute_result"
    }
   ],
   "source": [
    "df_model_2 = pd.DataFrame({\"Leading Digit\":[1,2,3,4,5,6,7,8,9]})\n",
    "df_model_2[\"Percentage of Occurence\"] = 0.0\n",
    "\n",
    "for ind,i in zip(df_model_2.index,df_model_2[\"Leading Digit\"]):\n",
    "\n",
    "    #print(type(df_model_2.loc[ind,\"Leading Digit\"]))\n",
    "    df_model_2[\"Percentage of Occurence\"][ind] =   math.log10(1+(1/df_model_2[\"Leading Digit\"][ind])) \n",
    "    df_model_2[\"Percentage of Occurence\"][ind] = df_model_2[\"Percentage of Occurence\"][ind] * 100    \n",
    "\n",
    "df_model_2"
   ]
  },
  {
   "cell_type": "markdown",
   "metadata": {},
   "source": [
    "Question 1."
   ]
  },
  {
   "cell_type": "markdown",
   "metadata": {},
   "source": [
    "Histogram for Real Distribution (F)."
   ]
  },
  {
   "cell_type": "code",
   "execution_count": 38,
   "metadata": {},
   "outputs": [
    {
     "data": {
      "image/png": "[encoded data removed]",
      "text/plain": [
       "<Figure size 800x800 with 1 Axes>"
      ]
     },
     "metadata": {},
     "output_type": "display_data"
    }
   ],
   "source": [
    "plot_bar_graph(df_frequency,df_frequency[\"Leading Digit\"],df_frequency[\"Percentage of Occurence\"],\"green\",\"Real Distribution (F)\")"
   ]
  },
  {
   "cell_type": "markdown",
   "metadata": {},
   "source": [
    "Histogram for Equal weight Distribution (P)."
   ]
  },
  {
   "cell_type": "code",
   "execution_count": 39,
   "metadata": {},
   "outputs": [
    {
     "data": {
      "image/png": "[encoded data removed]",
      "text/plain": [
       "<Figure size 800x800 with 1 Axes>"
      ]
     },
     "metadata": {},
     "output_type": "display_data"
    }
   ],
   "source": [
    "plot_bar_graph(df_model_1,df_model_1[\"Leading Digit\"],df_model_1[\"Percentage of Occurence\"],\"orange\",\"Equal weight Distribution (P)\")"
   ]
  },
  {
   "cell_type": "markdown",
   "metadata": {},
   "source": [
    "Histogram for Bernford law model (Pi)."
   ]
  },
  {
   "cell_type": "code",
   "execution_count": 40,
   "metadata": {},
   "outputs": [
    {
     "data": {
      "image/png": "[encoded data removed]",
      "text/plain": [
       "<Figure size 800x800 with 1 Axes>"
      ]
     },
     "metadata": {},
     "output_type": "display_data"
    }
   ],
   "source": [
    "plot_bar_graph(df_model_2,df_model_2[\"Leading Digit\"],df_model_2[\"Percentage of Occurence\"],\"purple\",\"Bernford law based Distribution (Pi)\")"
   ]
  },
  {
   "cell_type": "markdown",
   "metadata": {},
   "source": [
    "Question 2."
   ]
  },
  {
   "cell_type": "markdown",
   "metadata": {},
   "source": [
    "Helper functions for question 2."
   ]
  },
  {
   "cell_type": "code",
   "execution_count": 47,
   "metadata": {},
   "outputs": [],
   "source": [
    "def relative_error_calculator(df_actual,df_predicted):\n",
    "    #creating a dataframe that stores relative error between real model and various given models\n",
    "    df_relative_errors = pd.DataFrame({\"Leading Digit\":[1,2,3,4,5,6,7,8,9]})\n",
    "    df_relative_errors[\"Error in Model\"] = 0.0\n",
    "    \n",
    "    #iteratively computing relative error between real and predicted models values\n",
    "    for ind in df_relative_errors.index:\n",
    "\n",
    "        df_relative_errors[\"Error in Model\"][ind] = abs((df_actual[ind] - df_predicted[ind]) / df_actual[ind])\n",
    "\n",
    "    return df_relative_errors"
   ]
  },
  {
   "cell_type": "code",
   "execution_count": 55,
   "metadata": {},
   "outputs": [],
   "source": [
    "#code for plotting bar graph\n",
    "def plot_bar_graph_2(df,x,y,color,title):\n",
    "\n",
    "    fig= plt.figure(figsize =(8, 8))\n",
    "    plt.bar(x,y,color=color)\n",
    "    plt.title(title)\n",
    "    plt.xlabel(\"Leading digit\")\n",
    "    plt.ylabel(\"Error in Model\")\n",
    "    plt.xticks(range(0,10,1))\n",
    "    plt.show()"
   ]
  },
  {
   "cell_type": "code",
   "execution_count": 58,
   "metadata": {},
   "outputs": [
    {
     "data": {
      "image/png": "[encoded data removed]",
      "text/plain": [
       "<Figure size 800x800 with 1 Axes>"
      ]
     },
     "metadata": {},
     "output_type": "display_data"
    }
   ],
   "source": [
    "#computing relative error using helper function\n",
    "error = relative_error_calculator(df_frequency[\"Percentage of Occurence\"],df_model_1[\"Percentage of Occurence\"])\n",
    "#plotting relative error plot across each leading digit\n",
    "plot_bar_graph_2(error,error[\"Leading Digit\"],error[\"Error in Model\"],\"red\",\"Relative error plot for Model 1: Equal Weight (P)\")"
   ]
  },
  {
   "cell_type": "code",
   "execution_count": 59,
   "metadata": {},
   "outputs": [
    {
     "data": {
      "image/png": "[encoded data removed]",
      "text/plain": [
       "<Figure size 800x800 with 1 Axes>"
      ]
     },
     "metadata": {},
     "output_type": "display_data"
    }
   ],
   "source": [
    "error = relative_error_calculator(df_frequency[\"Percentage of Occurence\"],df_model_2[\"Percentage of Occurence\"])\n",
    "plot_bar_graph_2(error,error[\"Leading Digit\"],error[\"Error in Model\"],\"black\",\"Relative error plot for Model 2: Bernford law model (Pi)\")"
   ]
  },
  {
   "cell_type": "markdown",
   "metadata": {},
   "source": [
    "Question 3."
   ]
  },
  {
   "cell_type": "code",
   "execution_count": 63,
   "metadata": {},
   "outputs": [],
   "source": [
    "def root_mean_square_calculator(actual,predicted,model_name):\n",
    "    RMSE = round(math.sqrt(mean_squared_error(actual,predicted)),2)\n",
    "    print(\"The root mean squared error for the \"+model_name+\" is: \"+str(RMSE))"
   ]
  },
  {
   "cell_type": "code",
   "execution_count": 64,
   "metadata": {},
   "outputs": [
    {
     "name": "stdout",
     "output_type": "stream",
     "text": [
      "The root mean squared error for the Equal weight model (P) is: 12.04\n"
     ]
    }
   ],
   "source": [
    "root_mean_square_calculator(df_frequency[\"Percentage of Occurence\"].values,df_model_1[\"Percentage of Occurence\"].values,\"Equal weight model (P)\")"
   ]
  },
  {
   "cell_type": "code",
   "execution_count": 65,
   "metadata": {},
   "outputs": [
    {
     "name": "stdout",
     "output_type": "stream",
     "text": [
      "The root mean squared error for the Bernford law model (Pi) is: 4.48\n"
     ]
    }
   ],
   "source": [
    "root_mean_square_calculator(df_frequency[\"Percentage of Occurence\"].values,df_model_2[\"Percentage of Occurence\"].values,\"Bernford law model (Pi)\")"
   ]
  },
  {
   "cell_type": "markdown",
   "metadata": {},
   "source": [
    "Question 4."
   ]
  },
  {
   "cell_type": "code",
   "execution_count": 71,
   "metadata": {},
   "outputs": [],
   "source": [
    "def country_retail_data(df,country):\n",
    "\n",
    "    data = df[df[\"Country\"] == country]\n",
    "    data = data[\"Leading Digit\"].value_counts()\n",
    "    data = data.to_frame()\n",
    "    data = data.reset_index()\n",
    "    data = data.rename(columns={\"index\":\"Leading Digit\",\"Leading Digit\":\"Frequency\"})\n",
    "    data = data.sort_values(by=\"Leading Digit\",ignore_index=True)\n",
    "    total_freq = data[\"Frequency\"].sum() \n",
    "    data[\"Percentage of Occurence\"] = (data[\"Frequency\"]/total_freq)*100\n",
    "\n",
    "    return data"
   ]
  },
  {
   "cell_type": "markdown",
   "metadata": {},
   "source": [
    "a."
   ]
  },
  {
   "cell_type": "markdown",
   "metadata": {},
   "source": [
    "United Arab Emirates"
   ]
  },
  {
   "cell_type": "code",
   "execution_count": 72,
   "metadata": {},
   "outputs": [
    {
     "data": {
      "text/html": [
       "<div>\n",
       "<style scoped>\n",
       "    .dataframe tbody tr th:only-of-type {\n",
       "        vertical-align: middle;\n",
       "    }\n",
       "\n",
       "    .dataframe tbody tr th {\n",
       "        vertical-align: top;\n",
       "    }\n",
       "\n",
       "    .dataframe thead th {\n",
       "        text-align: right;\n",
       "    }\n",
       "</style>\n",
       "<table border=\"1\" class=\"dataframe\">\n",
       "  <thead>\n",
       "    <tr style=\"text-align: right;\">\n",
       "      <th></th>\n",
       "      <th>Leading Digit</th>\n",
       "      <th>Frequency</th>\n",
       "      <th>Percentage of Occurence</th>\n",
       "    </tr>\n",
       "  </thead>\n",
       "  <tbody>\n",
       "    <tr>\n",
       "      <th>0</th>\n",
       "      <td>1</td>\n",
       "      <td>145</td>\n",
       "      <td>48.821549</td>\n",
       "    </tr>\n",
       "    <tr>\n",
       "      <th>1</th>\n",
       "      <td>2</td>\n",
       "      <td>90</td>\n",
       "      <td>30.303030</td>\n",
       "    </tr>\n",
       "    <tr>\n",
       "      <th>2</th>\n",
       "      <td>3</td>\n",
       "      <td>19</td>\n",
       "      <td>6.397306</td>\n",
       "    </tr>\n",
       "    <tr>\n",
       "      <th>3</th>\n",
       "      <td>4</td>\n",
       "      <td>24</td>\n",
       "      <td>8.080808</td>\n",
       "    </tr>\n",
       "    <tr>\n",
       "      <th>4</th>\n",
       "      <td>5</td>\n",
       "      <td>8</td>\n",
       "      <td>2.693603</td>\n",
       "    </tr>\n",
       "    <tr>\n",
       "      <th>5</th>\n",
       "      <td>6</td>\n",
       "      <td>3</td>\n",
       "      <td>1.010101</td>\n",
       "    </tr>\n",
       "    <tr>\n",
       "      <th>6</th>\n",
       "      <td>7</td>\n",
       "      <td>5</td>\n",
       "      <td>1.683502</td>\n",
       "    </tr>\n",
       "    <tr>\n",
       "      <th>7</th>\n",
       "      <td>8</td>\n",
       "      <td>3</td>\n",
       "      <td>1.010101</td>\n",
       "    </tr>\n",
       "  </tbody>\n",
       "</table>\n",
       "</div>"
      ],
      "text/plain": [
       "  Leading Digit  Frequency  Percentage of Occurence\n",
       "0             1        145                48.821549\n",
       "1             2         90                30.303030\n",
       "2             3         19                 6.397306\n",
       "3             4         24                 8.080808\n",
       "4             5          8                 2.693603\n",
       "5             6          3                 1.010101\n",
       "6             7          5                 1.683502\n",
       "7             8          3                 1.010101"
      ]
     },
     "execution_count": 72,
     "metadata": {},
     "output_type": "execute_result"
    }
   ],
   "source": [
    "UAE = country_retail_data(df,\"United Arab Emirates\")\n",
    "UAE"
   ]
  },
  {
   "cell_type": "markdown",
   "metadata": {},
   "source": [
    "United Arab Emirates is missing 9 as a leading digit for its prices, so we will add a row for this that indicates that there is zero occurence of this digit."
   ]
  },
  {
   "cell_type": "code",
   "execution_count": 76,
   "metadata": {},
   "outputs": [
    {
     "data": {
      "text/html": [
       "<div>\n",
       "<style scoped>\n",
       "    .dataframe tbody tr th:only-of-type {\n",
       "        vertical-align: middle;\n",
       "    }\n",
       "\n",
       "    .dataframe tbody tr th {\n",
       "        vertical-align: top;\n",
       "    }\n",
       "\n",
       "    .dataframe thead th {\n",
       "        text-align: right;\n",
       "    }\n",
       "</style>\n",
       "<table border=\"1\" class=\"dataframe\">\n",
       "  <thead>\n",
       "    <tr style=\"text-align: right;\">\n",
       "      <th></th>\n",
       "      <th>Leading Digit</th>\n",
       "      <th>Frequency</th>\n",
       "      <th>Percentage of Occurence</th>\n",
       "    </tr>\n",
       "  </thead>\n",
       "  <tbody>\n",
       "    <tr>\n",
       "      <th>0</th>\n",
       "      <td>1</td>\n",
       "      <td>145</td>\n",
       "      <td>48.821549</td>\n",
       "    </tr>\n",
       "    <tr>\n",
       "      <th>1</th>\n",
       "      <td>2</td>\n",
       "      <td>90</td>\n",
       "      <td>30.30303</td>\n",
       "    </tr>\n",
       "    <tr>\n",
       "      <th>2</th>\n",
       "      <td>3</td>\n",
       "      <td>19</td>\n",
       "      <td>6.397306</td>\n",
       "    </tr>\n",
       "    <tr>\n",
       "      <th>3</th>\n",
       "      <td>4</td>\n",
       "      <td>24</td>\n",
       "      <td>8.080808</td>\n",
       "    </tr>\n",
       "    <tr>\n",
       "      <th>4</th>\n",
       "      <td>5</td>\n",
       "      <td>8</td>\n",
       "      <td>2.693603</td>\n",
       "    </tr>\n",
       "    <tr>\n",
       "      <th>5</th>\n",
       "      <td>6</td>\n",
       "      <td>3</td>\n",
       "      <td>1.010101</td>\n",
       "    </tr>\n",
       "    <tr>\n",
       "      <th>6</th>\n",
       "      <td>7</td>\n",
       "      <td>5</td>\n",
       "      <td>1.683502</td>\n",
       "    </tr>\n",
       "    <tr>\n",
       "      <th>7</th>\n",
       "      <td>8</td>\n",
       "      <td>3</td>\n",
       "      <td>1.010101</td>\n",
       "    </tr>\n",
       "    <tr>\n",
       "      <th>8</th>\n",
       "      <td>9</td>\n",
       "      <td>0</td>\n",
       "      <td>0.0</td>\n",
       "    </tr>\n",
       "  </tbody>\n",
       "</table>\n",
       "</div>"
      ],
      "text/plain": [
       "  Leading Digit Frequency Percentage of Occurence\n",
       "0             1       145               48.821549\n",
       "1             2        90                30.30303\n",
       "2             3        19                6.397306\n",
       "3             4        24                8.080808\n",
       "4             5         8                2.693603\n",
       "5             6         3                1.010101\n",
       "6             7         5                1.683502\n",
       "7             8         3                1.010101\n",
       "8             9         0                     0.0"
      ]
     },
     "execution_count": 76,
     "metadata": {},
     "output_type": "execute_result"
    }
   ],
   "source": [
    "#appending zero occurence for digit 9 in prices for UAE\n",
    "UAE.loc[8] = ['9','0','0.0'] \n",
    "UAE "
   ]
  },
  {
   "cell_type": "markdown",
   "metadata": {},
   "source": [
    "United Kingdom"
   ]
  },
  {
   "cell_type": "code",
   "execution_count": 73,
   "metadata": {},
   "outputs": [
    {
     "data": {
      "text/html": [
       "<div>\n",
       "<style scoped>\n",
       "    .dataframe tbody tr th:only-of-type {\n",
       "        vertical-align: middle;\n",
       "    }\n",
       "\n",
       "    .dataframe tbody tr th {\n",
       "        vertical-align: top;\n",
       "    }\n",
       "\n",
       "    .dataframe thead th {\n",
       "        text-align: right;\n",
       "    }\n",
       "</style>\n",
       "<table border=\"1\" class=\"dataframe\">\n",
       "  <thead>\n",
       "    <tr style=\"text-align: right;\">\n",
       "      <th></th>\n",
       "      <th>Leading Digit</th>\n",
       "      <th>Frequency</th>\n",
       "      <th>Percentage of Occurence</th>\n",
       "    </tr>\n",
       "  </thead>\n",
       "  <tbody>\n",
       "    <tr>\n",
       "      <th>0</th>\n",
       "      <td>1</td>\n",
       "      <td>156056</td>\n",
       "      <td>39.470975</td>\n",
       "    </tr>\n",
       "    <tr>\n",
       "      <th>1</th>\n",
       "      <td>2</td>\n",
       "      <td>95089</td>\n",
       "      <td>24.050697</td>\n",
       "    </tr>\n",
       "    <tr>\n",
       "      <th>2</th>\n",
       "      <td>3</td>\n",
       "      <td>38567</td>\n",
       "      <td>9.754685</td>\n",
       "    </tr>\n",
       "    <tr>\n",
       "      <th>3</th>\n",
       "      <td>4</td>\n",
       "      <td>37297</td>\n",
       "      <td>9.433466</td>\n",
       "    </tr>\n",
       "    <tr>\n",
       "      <th>4</th>\n",
       "      <td>5</td>\n",
       "      <td>24251</td>\n",
       "      <td>6.133764</td>\n",
       "    </tr>\n",
       "    <tr>\n",
       "      <th>5</th>\n",
       "      <td>6</td>\n",
       "      <td>11356</td>\n",
       "      <td>2.872254</td>\n",
       "    </tr>\n",
       "    <tr>\n",
       "      <th>6</th>\n",
       "      <td>7</td>\n",
       "      <td>15152</td>\n",
       "      <td>3.832369</td>\n",
       "    </tr>\n",
       "    <tr>\n",
       "      <th>7</th>\n",
       "      <td>8</td>\n",
       "      <td>11500</td>\n",
       "      <td>2.908675</td>\n",
       "    </tr>\n",
       "    <tr>\n",
       "      <th>8</th>\n",
       "      <td>9</td>\n",
       "      <td>6101</td>\n",
       "      <td>1.543115</td>\n",
       "    </tr>\n",
       "  </tbody>\n",
       "</table>\n",
       "</div>"
      ],
      "text/plain": [
       "  Leading Digit  Frequency  Percentage of Occurence\n",
       "0             1     156056                39.470975\n",
       "1             2      95089                24.050697\n",
       "2             3      38567                 9.754685\n",
       "3             4      37297                 9.433466\n",
       "4             5      24251                 6.133764\n",
       "5             6      11356                 2.872254\n",
       "6             7      15152                 3.832369\n",
       "7             8      11500                 2.908675\n",
       "8             9       6101                 1.543115"
      ]
     },
     "execution_count": 73,
     "metadata": {},
     "output_type": "execute_result"
    }
   ],
   "source": [
    "UK = country_retail_data(df,\"United Kingdom\")\n",
    "UK"
   ]
  },
  {
   "cell_type": "markdown",
   "metadata": {},
   "source": [
    "Japan"
   ]
  },
  {
   "cell_type": "code",
   "execution_count": 74,
   "metadata": {},
   "outputs": [
    {
     "data": {
      "text/html": [
       "<div>\n",
       "<style scoped>\n",
       "    .dataframe tbody tr th:only-of-type {\n",
       "        vertical-align: middle;\n",
       "    }\n",
       "\n",
       "    .dataframe tbody tr th {\n",
       "        vertical-align: top;\n",
       "    }\n",
       "\n",
       "    .dataframe thead th {\n",
       "        text-align: right;\n",
       "    }\n",
       "</style>\n",
       "<table border=\"1\" class=\"dataframe\">\n",
       "  <thead>\n",
       "    <tr style=\"text-align: right;\">\n",
       "      <th></th>\n",
       "      <th>Leading Digit</th>\n",
       "      <th>Frequency</th>\n",
       "      <th>Percentage of Occurence</th>\n",
       "    </tr>\n",
       "  </thead>\n",
       "  <tbody>\n",
       "    <tr>\n",
       "      <th>0</th>\n",
       "      <td>1</td>\n",
       "      <td>90</td>\n",
       "      <td>51.428571</td>\n",
       "    </tr>\n",
       "    <tr>\n",
       "      <th>1</th>\n",
       "      <td>2</td>\n",
       "      <td>69</td>\n",
       "      <td>39.428571</td>\n",
       "    </tr>\n",
       "    <tr>\n",
       "      <th>2</th>\n",
       "      <td>3</td>\n",
       "      <td>4</td>\n",
       "      <td>2.285714</td>\n",
       "    </tr>\n",
       "    <tr>\n",
       "      <th>3</th>\n",
       "      <td>4</td>\n",
       "      <td>8</td>\n",
       "      <td>4.571429</td>\n",
       "    </tr>\n",
       "    <tr>\n",
       "      <th>4</th>\n",
       "      <td>5</td>\n",
       "      <td>1</td>\n",
       "      <td>0.571429</td>\n",
       "    </tr>\n",
       "    <tr>\n",
       "      <th>5</th>\n",
       "      <td>6</td>\n",
       "      <td>1</td>\n",
       "      <td>0.571429</td>\n",
       "    </tr>\n",
       "    <tr>\n",
       "      <th>6</th>\n",
       "      <td>7</td>\n",
       "      <td>2</td>\n",
       "      <td>1.142857</td>\n",
       "    </tr>\n",
       "  </tbody>\n",
       "</table>\n",
       "</div>"
      ],
      "text/plain": [
       "  Leading Digit  Frequency  Percentage of Occurence\n",
       "0             1         90                51.428571\n",
       "1             2         69                39.428571\n",
       "2             3          4                 2.285714\n",
       "3             4          8                 4.571429\n",
       "4             5          1                 0.571429\n",
       "5             6          1                 0.571429\n",
       "6             7          2                 1.142857"
      ]
     },
     "execution_count": 74,
     "metadata": {},
     "output_type": "execute_result"
    }
   ],
   "source": [
    "JAP = country_retail_data(df,\"Japan\")\n",
    "JAP"
   ]
  },
  {
   "cell_type": "markdown",
   "metadata": {},
   "source": [
    "Japan is missing 8 and 9 as leading digits for its prices, so we will add rows for this that indicates that there is zero occurence of these digit(s)."
   ]
  },
  {
   "cell_type": "code",
   "execution_count": 78,
   "metadata": {},
   "outputs": [
    {
     "data": {
      "text/html": [
       "<div>\n",
       "<style scoped>\n",
       "    .dataframe tbody tr th:only-of-type {\n",
       "        vertical-align: middle;\n",
       "    }\n",
       "\n",
       "    .dataframe tbody tr th {\n",
       "        vertical-align: top;\n",
       "    }\n",
       "\n",
       "    .dataframe thead th {\n",
       "        text-align: right;\n",
       "    }\n",
       "</style>\n",
       "<table border=\"1\" class=\"dataframe\">\n",
       "  <thead>\n",
       "    <tr style=\"text-align: right;\">\n",
       "      <th></th>\n",
       "      <th>Leading Digit</th>\n",
       "      <th>Frequency</th>\n",
       "      <th>Percentage of Occurence</th>\n",
       "    </tr>\n",
       "  </thead>\n",
       "  <tbody>\n",
       "    <tr>\n",
       "      <th>0</th>\n",
       "      <td>1</td>\n",
       "      <td>90</td>\n",
       "      <td>51.428571</td>\n",
       "    </tr>\n",
       "    <tr>\n",
       "      <th>1</th>\n",
       "      <td>2</td>\n",
       "      <td>69</td>\n",
       "      <td>39.428571</td>\n",
       "    </tr>\n",
       "    <tr>\n",
       "      <th>2</th>\n",
       "      <td>3</td>\n",
       "      <td>4</td>\n",
       "      <td>2.285714</td>\n",
       "    </tr>\n",
       "    <tr>\n",
       "      <th>3</th>\n",
       "      <td>4</td>\n",
       "      <td>8</td>\n",
       "      <td>4.571429</td>\n",
       "    </tr>\n",
       "    <tr>\n",
       "      <th>4</th>\n",
       "      <td>5</td>\n",
       "      <td>1</td>\n",
       "      <td>0.571429</td>\n",
       "    </tr>\n",
       "    <tr>\n",
       "      <th>5</th>\n",
       "      <td>6</td>\n",
       "      <td>1</td>\n",
       "      <td>0.571429</td>\n",
       "    </tr>\n",
       "    <tr>\n",
       "      <th>6</th>\n",
       "      <td>7</td>\n",
       "      <td>2</td>\n",
       "      <td>1.142857</td>\n",
       "    </tr>\n",
       "    <tr>\n",
       "      <th>7</th>\n",
       "      <td>8</td>\n",
       "      <td>0</td>\n",
       "      <td>0.0</td>\n",
       "    </tr>\n",
       "    <tr>\n",
       "      <th>8</th>\n",
       "      <td>9</td>\n",
       "      <td>0</td>\n",
       "      <td>0.0</td>\n",
       "    </tr>\n",
       "  </tbody>\n",
       "</table>\n",
       "</div>"
      ],
      "text/plain": [
       "  Leading Digit Frequency Percentage of Occurence\n",
       "0             1        90               51.428571\n",
       "1             2        69               39.428571\n",
       "2             3         4                2.285714\n",
       "3             4         8                4.571429\n",
       "4             5         1                0.571429\n",
       "5             6         1                0.571429\n",
       "6             7         2                1.142857\n",
       "7             8         0                     0.0\n",
       "8             9         0                     0.0"
      ]
     },
     "execution_count": 78,
     "metadata": {},
     "output_type": "execute_result"
    }
   ],
   "source": [
    "#appending zero occurence for digit 8 in prices for Japan.\n",
    "JAP.loc[7] = ['8','0','0.0']\n",
    "#appending zero occurence for digit 9 in prices for Japan\n",
    "JAP.loc[8] = ['9','0','0.0']  \n",
    "JAP"
   ]
  },
  {
   "cell_type": "markdown",
   "metadata": {},
   "source": [
    "b."
   ]
  },
  {
   "cell_type": "code",
   "execution_count": 79,
   "metadata": {},
   "outputs": [
    {
     "name": "stdout",
     "output_type": "stream",
     "text": [
      "The root mean squared error for the Equal weight model (P) for United Arab Emirates  is: 16.02\n"
     ]
    }
   ],
   "source": [
    "root_mean_square_calculator(UAE[\"Percentage of Occurence\"].values,df_model_1[\"Percentage of Occurence\"],\"Equal weight model (P) for United Arab Emirates \")"
   ]
  },
  {
   "cell_type": "code",
   "execution_count": 83,
   "metadata": {},
   "outputs": [
    {
     "name": "stdout",
     "output_type": "stream",
     "text": [
      "The root mean squared error for the Equal weight model (P) for United Kingdom  is: 11.93\n"
     ]
    }
   ],
   "source": [
    "root_mean_square_calculator(UK[\"Percentage of Occurence\"].values,df_model_1[\"Percentage of Occurence\"],\"Equal weight model (P) for United Kingdom \")"
   ]
  },
  {
   "cell_type": "code",
   "execution_count": 82,
   "metadata": {},
   "outputs": [
    {
     "name": "stdout",
     "output_type": "stream",
     "text": [
      "The root mean squared error for the Equal weight model (P) for Japan  is: 18.61\n"
     ]
    }
   ],
   "source": [
    "root_mean_square_calculator(JAP[\"Percentage of Occurence\"].values,df_model_1[\"Percentage of Occurence\"],\"Equal weight model (P) for Japan \")"
   ]
  }
 ],
 "metadata": {
  "kernelspec": {
   "display_name": "Python 3.9.6 64-bit",
   "language": "python",
   "name": "python3"
  },
  "language_info": {
   "codemirror_mode": {
    "name": "ipython",
    "version": 3
   },
   "file_extension": ".py",
   "mimetype": "text/x-python",
   "name": "python",
   "nbconvert_exporter": "python",
   "pygments_lexer": "ipython3",
   "version": "3.9.6"
  },
  "orig_nbformat": 4,
  "vscode": {
   "interpreter": {
    "hash": "31f2aee4e71d21fbe5cf8b01ff0e069b9275f58929596ceb00d14d90e3e16cd6"
   }
  }
 },
 "nbformat": 4,
 "nbformat_minor": 2
}
